{
 "cells": [
  {
   "cell_type": "markdown",
   "metadata": {},
   "source": [
    "## Let's use hypothesis testing to see if data have the same mean\n",
    "Recall, p-value is the probability of observing your data (or more extrem) given that the null hypothesis is true.\n",
    "\n",
    "In our case:\n",
    "**Null hypothesis** is that means are equal\n",
    "**Alternative hyp.** is that they differ\n",
    "\n",
    "If p-value < 5%, it means that it is quite unlikely to oberve the provided data under the assumption that the null hypothesis is true. Therefore, we **can** reject it in favor of the alternative hypothesis.\n"
   ]
  },
  {
   "cell_type": "code",
   "execution_count": null,
   "metadata": {
    "collapsed": true
   },
   "outputs": [],
   "source": [
    "# get filenames\n",
    "\n",
    "\n",
    "production_file = \"/home/durkota/edna/home/durkota/Experiment-13/omnia2/147.32.83.175.binetflow\"\n",
    "hp_file = \"/home/durkota/edna/home/durkota/Experiment-13/omnia1/147.32.83.179.binetflow\"\n",
    "port = '80'\n"
   ]
  },
  {
   "cell_type": "code",
   "execution_count": null,
   "metadata": {
    "collapsed": false
   },
   "outputs": [],
   "source": [
    "#!/usr/bin/env python3.6 -u\n",
    "# Author: Karel Durkota\n",
    "%load_ext autoreload\n",
    "%autoreload 2\n",
    "\n",
    "import pandas as pd\n",
    "import numpy as np\n",
    "import matplotlib.pyplot as plt\n",
    "import scipy.stats as stats\n",
    "import flowExtractor \n",
    "import datetime\n",
    "import datetime\n",
    "import time"
   ]
  },
  {
   "cell_type": "code",
   "execution_count": null,
   "metadata": {
    "collapsed": false
   },
   "outputs": [],
   "source": [
    "from datetime import datetime\n",
    "\n",
    "datetime_object = datetime.strptime('2018/02/13 18:07:08.713635', '%Y/%m/%d %X.%f')"
   ]
  },
  {
   "cell_type": "code",
   "execution_count": null,
   "metadata": {
    "collapsed": true
   },
   "outputs": [],
   "source": [
    "# get sequence of unique # of IP per hour \n",
    "def getHour(string):\n",
    "    return string.split(\" \")[1].split(\":\")[0]\n",
    "\n",
    "def getDateAndHour(string):\n",
    "    d = datetime.strptime(string, '%Y/%m/%d %X.%f')\n",
    "    d = d.replace(microsecond=0,second=0,minute=0)\n",
    "    return d"
   ]
  },
  {
   "cell_type": "code",
   "execution_count": null,
   "metadata": {
    "collapsed": true
   },
   "outputs": [],
   "source": [
    "def generateIntermediateHours(start, end):\n",
    "    delta = timedelta(seconds=60*60)         # timedelta\n",
    "\n",
    "    l = []\n",
    "    \n",
    "    d = start\n",
    "    while d <= end:\n",
    "#         print(d)\n",
    "        d = d + delta\n",
    "        l.append(d)\n",
    "    return l\n",
    "        "
   ]
  },
  {
   "cell_type": "code",
   "execution_count": null,
   "metadata": {
    "collapsed": false
   },
   "outputs": [],
   "source": [
    "def getSequenceFromData(data):\n",
    "    first_date = getDateAndHour(data[1,1])\n",
    "    last_date = getDateAndHour(data[data.shape[0]-1,1])\n",
    "    dates = generateIntermediateHours(first_date, last_date)\n",
    "    \n",
    "    ser = pd.Series(data[1:,0]).groupby(list(map(getDateAndHour, data[1:,1]))).count()\n",
    "    \n",
    "    seq = []\n",
    "    for d in dates:\n",
    "        if d in ser.index:\n",
    "            seq.append(ser.get(d))\n",
    "        else:\n",
    "            seq.append(0)\n",
    "    return seq"
   ]
  },
  {
   "cell_type": "code",
   "execution_count": null,
   "metadata": {
    "collapsed": false
   },
   "outputs": [],
   "source": [
    "col = dict()\n",
    "\n",
    "def getFullSequence(filename, port):\n",
    "    global col\n",
    "    seq = []\n",
    "#    for filename in filenames:\n",
    "    data = np.array(flowExtractor.extract(['-p', port, '-f', filename]))\n",
    "\n",
    "    header = data[0,:]\n",
    "    col = dict([(header[i], i) for i in range(len(header))])\n",
    "\n",
    "    seq.append(getSequenceFromData(data[:,[col['SrcAddr'], col['StartTime']]]))\n",
    "    return [y for x in seq for y in x]\n",
    "\n"
   ]
  },
  {
   "cell_type": "code",
   "execution_count": null,
   "metadata": {
    "collapsed": false,
    "scrolled": true
   },
   "outputs": [],
   "source": [
    "              \n",
    "              \n",
    "# getting full sequences\n",
    "seq1 = getFullSequence(production_file, port)\n",
    "seq2 = getFullSequence(hp_file, port)\n",
    "\n",
    "# run hypothesis test\n",
    "# Hypothesis testing\n",
    "\n",
    "\n",
    "print(\"Mean1 = {0}\".format(np.mean(seq1)))\n",
    "print(\"Count = {0}\".format(len(seq1)))\n",
    "print(\"Mean2 = {0}\".format(np.mean(seq2)))\n",
    "print(\"Count = {0}\".format(len(seq2)))\n",
    "\n",
    "test = stats.ttest_ind(a= seq1, b= seq2, equal_var=False)  # Pop mean\n",
    "print(test)\n",
    "\n",
    "# plot histograms\n",
    "\n",
    "\n",
    "bins = np.linspace(0,10,20)\n",
    "plt.hist(seq1, bins, alpha=0.5)\n",
    "plt.hist(seq2, bins, alpha=0.5)\n",
    "plt.show()"
   ]
  },
  {
   "cell_type": "code",
   "execution_count": null,
   "metadata": {
    "collapsed": true
   },
   "outputs": [],
   "source": []
  }
 ],
 "metadata": {
  "kernelspec": {
   "display_name": "Python 3",
   "language": "python",
   "name": "python3"
  },
  "language_info": {
   "codemirror_mode": {
    "name": "ipython",
    "version": 3
   },
   "file_extension": ".py",
   "mimetype": "text/x-python",
   "name": "python",
   "nbconvert_exporter": "python",
   "pygments_lexer": "ipython3",
   "version": "3.6.3"
  }
 },
 "nbformat": 4,
 "nbformat_minor": 2
}
