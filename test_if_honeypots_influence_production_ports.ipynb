{
 "cells": [
  {
   "cell_type": "markdown",
   "metadata": {},
   "source": [
    "## Let's use hypothesis testing to see if data have the same mean\n",
    "Recall, p-value is the probability of observing your data (or more extrem) given that the null hypothesis is true.\n",
    "\n",
    "In our case:\n",
    "**Null hypothesis** is that means are equal\n",
    "**Alternative hyp.** is that they differ\n",
    "\n",
    "If p-value < 5%, it means that it is quite unlikely to oberve the provided data under the assumption that the null hypothesis is true. Therefore, we **can** reject it in favor of the alternative hypothesis.\n"
   ]
  },
  {
   "cell_type": "code",
   "execution_count": null,
   "metadata": {
    "collapsed": true
   },
   "outputs": [],
   "source": [
    "# prepare the filenames for proudction router\n",
    "\n",
    "\n",
    "days = [22, 23, 24]\n",
    "production_files = [\"/home/durkota/data/projects/tacr/data/Experiment-8/omnia1/Traffic/2017-07-\"+str(day)+\"-147.32.83.179.binetflow\" for day in days]\n",
    "hp_files = [\"/home/durkota/data/projects/tacr/data/Experiment-8/omnia2/Traffic/2017-07-\"+str(day)+\"-147.32.83.175.binetflow\" for day in days]\n",
    "\n",
    "port = '80'\n"
   ]
  },
  {
   "cell_type": "code",
   "execution_count": null,
   "metadata": {
    "collapsed": false
   },
   "outputs": [],
   "source": [
    "#!/usr/bin/env python3.6 -u\n",
    "# Author: Karel Durkota\n",
    "%load_ext autoreload\n",
    "%autoreload 2\n",
    "\n",
    "import pandas as pd\n",
    "import numpy as np\n",
    "import matplotlib.pyplot as plt\n",
    "import scipy.stats as stats\n",
    "import flowExtractor \n"
   ]
  },
  {
   "cell_type": "code",
   "execution_count": null,
   "metadata": {
    "collapsed": false
   },
   "outputs": [],
   "source": [
    "# get sequence of unique # of IP per hour \n",
    "def getHour(string):\n",
    "    return string.split(\" \")[1].split(\":\")[0]\n",
    "\n",
    "def getSequenceFromData(data, keys):\n",
    "    ser = pd.Series(data[1:,0]).groupby(list(map(getHour, data[1:,1]))).count()\n",
    "    seq = []\n",
    "    for key in keys:\n",
    "        if str(key) in ser.index:\n",
    "            seq.append(ser.get(str(key)))\n",
    "        else:\n",
    "            seq.append(0)\n",
    "    return seq\n"
   ]
  },
  {
   "cell_type": "code",
   "execution_count": null,
   "metadata": {
    "collapsed": false
   },
   "outputs": [],
   "source": [
    "col = dict()\n",
    "\n",
    "def getFullSequence(filenames, port):\n",
    "    global col\n",
    "    seq = []\n",
    "    for filename in filenames:\n",
    "        data = np.array(flowExtractor.extract(['-p', port, '-f', filename]))\n",
    "        \n",
    "        header = data[0,:]\n",
    "        col = dict([(header[i], i) for i in range(len(header))])\n",
    "        \n",
    "        keys = range(0,24)\n",
    "        seq.append(getSequenceFromData(data[:,[col['SrcAddr'],col['StartTime']]], keys))\n",
    "    return [y for x in seq for y in x]\n",
    "\n",
    "#production = [\"/home/durkota/data/projects/tacr/data/Experiment-8/omnia1/Traffic/2017-07-\"+str(day)+\"-147.32.83.179.binetflow\" for day in days]\n",
    "#print(getFullSequence(production, '80'))\n"
   ]
  },
  {
   "cell_type": "code",
   "execution_count": null,
   "metadata": {
    "collapsed": false,
    "scrolled": true
   },
   "outputs": [],
   "source": [
    "              \n",
    "              \n",
    "# getting full sequences\n",
    "seq1 = getFullSequence(production_files, port)\n",
    "seq2 = getFullSequence(hp_files, port)\n",
    "\n",
    "# run hypothesis test\n",
    "# Hypothesis testing\n",
    "\n",
    "\n",
    "print(\"Mean1 = {0}\".format(np.mean(seq1)))\n",
    "print(\"Count = {0}\".format(len(seq1)))\n",
    "print(\"Mean2 = {0}\".format(np.mean(seq2)))\n",
    "print(\"Count = {0}\".format(len(seq2)))\n",
    "\n",
    "test = stats.ttest_ind(a= seq1, b= seq2, equal_var=False)  # Pop mean\n",
    "print(test)\n",
    "\n",
    "# plot histograms\n",
    "\n",
    "\n",
    "bins = np.linspace(0,10,20)\n",
    "plt.hist(seq1, bins, alpha=0.5)\n",
    "plt.hist(seq2, bins, alpha=0.5)\n",
    "plt.show()"
   ]
  },
  {
   "cell_type": "code",
   "execution_count": null,
   "metadata": {
    "collapsed": true
   },
   "outputs": [],
   "source": []
  }
 ],
 "metadata": {
  "kernelspec": {
   "display_name": "Python 3",
   "language": "python",
   "name": "python3"
  },
  "language_info": {
   "codemirror_mode": {
    "name": "ipython",
    "version": 3
   },
   "file_extension": ".py",
   "mimetype": "text/x-python",
   "name": "python",
   "nbconvert_exporter": "python",
   "pygments_lexer": "ipython3",
   "version": "3.6.3"
  }
 },
 "nbformat": 4,
 "nbformat_minor": 2
}
